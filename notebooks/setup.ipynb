{
  "cells": [
    {
      "cell_type": "markdown",
      "metadata": {},
      "source": [
        "# Setup Environment for domain-service-proto\n",
        "\n",
        "First step is installing project tye: [https://github.com/dotnet/tye/blob/main/docs/getting_started.md](https://github.com/dotnet/tye/blob/main/docs/getting_started.md)"
      ]
    },
    {
      "cell_type": "code",
      "execution_count": 1,
      "metadata": {
        "dotnet_interactive": {
          "language": "pwsh"
        }
      },
      "source": [
        "dotnet tool install -g Microsoft.Tye --version \"0.6.0-alpha.21070.5\""
      ],
      "outputs": [
        {
          "output_type": "execute_result",
          "data": {
            "text/plain": "Tool 'microsoft.tye' is already installed.\r\n"
          },
          "execution_count": 1,
          "metadata": {}
        }
      ]
    },
    {
      "cell_type": "markdown",
      "metadata": {},
      "source": [
        "After 'tye run' dashboard is reachable at http://127.0.0.1:8000.\n",
        "\n",
        "Find out where the authorization service is expected to be"
      ]
    },
    {
      "cell_type": "code",
      "execution_count": 1,
      "metadata": {
        "dotnet_interactive": {
          "language": "pwsh"
        }
      },
      "source": [
        "Invoke-AtDotnetProjectItem -Sln {\n",
        "    $appsettings = Get-ChildItem -Recurse -File -Path ./src -Include \"appsettings*.json\" | Where-Object FullName -notlike \"*bin\\*\" | Get-Content -Raw | ConvertFrom-Json\n",
        "    $appsettings.Endpoints.Authority\n",
        "}"
      ],
      "outputs": [
        {
          "output_type": "execute_result",
          "data": {
            "text/plain": "https://localhost:5001\r\n"
          },
          "execution_count": 1,
          "metadata": {}
        }
      ]
    },
    {
      "cell_type": "code",
      "execution_count": 1,
      "metadata": {
        "dotnet_interactive": {
          "language": "pwsh"
        }
      },
      "source": [
        "Invoke-AtDotnetProjectItem -Sln {\n",
        "    $PWD\n",
        "    Import-Module .\\src\\Domain.Client.PS\\bin\\Debug\\netstandard2.1\\Domain.Client.psd1\n",
        "\n",
        "    $token = New-ClientAuthorizationToken -Authority https://localhost:5001 -ClientId \"client\" -ClientSecret \"secret\"\n",
        "}"
      ],
      "outputs": [
        {
          "output_type": "execute_result",
          "data": {
            "text/plain": "\r\n"
          },
          "execution_count": 1,
          "metadata": {}
        },
        {
          "output_type": "execute_result",
          "data": {
            "text/plain": "Path\r\n"
          },
          "execution_count": 1,
          "metadata": {}
        },
        {
          "output_type": "execute_result",
          "data": {
            "text/plain": "----\r\n"
          },
          "execution_count": 1,
          "metadata": {}
        },
        {
          "output_type": "execute_result",
          "data": {
            "text/plain": "D:\\src\\domain-service-proto\r\n"
          },
          "execution_count": 1,
          "metadata": {}
        },
        {
          "output_type": "execute_result",
          "data": {
            "text/plain": "\r\n"
          },
          "execution_count": 1,
          "metadata": {}
        }
      ]
    },
    {
      "cell_type": "code",
      "execution_count": 1,
      "metadata": {
        "dotnet_interactive": {
          "language": "pwsh"
        }
      },
      "source": [
        ""
      ],
      "outputs": []
    }
  ],
  "metadata": {
    "kernelspec": {
      "display_name": ".NET (C#)",
      "language": "C#",
      "name": ".net-csharp"
    },
    "language_info": {
      "file_extension": ".cs",
      "mimetype": "text/x-csharp",
      "name": "C#",
      "pygments_lexer": "csharp",
      "version": "8.0"
    }
  },
  "nbformat": 4,
  "nbformat_minor": 4
}